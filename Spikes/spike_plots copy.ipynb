{
 "cells": [
  {
   "cell_type": "code",
   "execution_count": 1,
   "metadata": {},
   "outputs": [],
   "source": [
    "import sys\n",
    "sys.path.append('../.')\n",
    "\n",
    "from utils import *\n",
    "from Data.DataGenerator import *\n",
    "from Models.Models_normal import *\n",
    "from Training.Spike_loss import *\n",
    "import torch.optim as optim\n",
    "from Training.Analysis import fixed_model_batch_analysis\n",
    "from Data.DataLoader import *\n",
    "import matplotlib.pyplot as plt\n",
    "import matplotlib.gridspec as gridspec\n",
    "\n",
    "from Training.task_specific.random_experiment_task import *\n",
    "\n",
    "\n",
    "\n",
    "from sklearn.cluster import DBSCAN, SpectralClustering, AgglomerativeClustering, BisectingKMeans\n",
    "from sklearn.linear_model import RANSACRegressor\n",
    "from tqdm import tqdm\n",
    "import numpy as np\n",
    "import itertools\n",
    "from sklearn.linear_model import RANSACRegressor\n",
    "\n",
    "import torch"
   ]
  },
  {
   "cell_type": "code",
   "execution_count": 2,
   "metadata": {},
   "outputs": [
    {
     "name": "stdout",
     "output_type": "stream",
     "text": [
      "/network/scratch/m/mehrab.hamidi/januery_res25_scale_fixed_mnist_arch_00000000000/random_experiment/normal/normal_mean_0_std1/bias_0/random_data_random_untrained_networkbias0_exps5_num10000_center_0_mlp_100_100_111/\n"
     ]
    }
   ],
   "source": [
    "arch = (100, [100 for _ in range(111)])\n",
    "\n",
    "data_prop = {\n",
    "    'normal_dist': True, \n",
    "    'loc': 0, \n",
    "    'scale': 1, \n",
    "    'exp_type': 'normal'\n",
    "}\n",
    "pp = f'/network/scratch/m/mehrab.hamidi/januery_res25_scale_fixed_mnist_arch_00000000000/random_experiment/normal'\n",
    "\n",
    "random_experiment_hook_engine(arch, exps=5, num=10000, data_properties=data_prop, pre_path='{}/'.format(pp),  bias=0, model_type='mlp', new_model_each_time=False, new_data_each_time=True)"
   ]
  },
  {
   "cell_type": "code",
   "execution_count": null,
   "metadata": {},
   "outputs": [],
   "source": []
  }
 ],
 "metadata": {
  "kernelspec": {
   "display_name": "Python 3",
   "language": "python",
   "name": "python3"
  },
  "language_info": {
   "codemirror_mode": {
    "name": "ipython",
    "version": 3
   },
   "file_extension": ".py",
   "mimetype": "text/x-python",
   "name": "python",
   "nbconvert_exporter": "python",
   "pygments_lexer": "ipython3",
   "version": "3.8.13"
  }
 },
 "nbformat": 4,
 "nbformat_minor": 2
}
