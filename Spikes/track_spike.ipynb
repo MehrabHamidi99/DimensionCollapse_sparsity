{
 "cells": [
  {
   "cell_type": "code",
   "execution_count": 1,
   "metadata": {},
   "outputs": [],
   "source": [
    "import sys\n",
    "sys.path.append('../.')\n",
    "\n",
    "\n",
    "from utils import *\n",
    "from Data.DataGenerator import *\n",
    "from Models.Models_normal import *\n",
    "import torch.optim as optim\n",
    "from Training.Analysis import fixed_model_batch_analysis\n",
    "from Data.DataLoader import *\n",
    "import matplotlib.pyplot as plt\n",
    "import matplotlib.gridspec as gridspec\n",
    "\n",
    "\n",
    "from sklearn.cluster import DBSCAN, SpectralClustering, AgglomerativeClustering, BisectingKMeans\n",
    "from sklearn.linear_model import RANSACRegressor\n",
    "from tqdm import tqdm\n",
    "import numpy as np\n",
    "import itertools\n",
    "from sklearn.linear_model import RANSACRegressor\n"
   ]
  },
  {
   "cell_type": "code",
   "execution_count": 2,
   "metadata": {},
   "outputs": [
    {
     "name": "stdout",
     "output_type": "stream",
     "text": [
      "Train Loader Batch Shapes:\n",
      "Batch 1: Images Shape = torch.Size([64, 1, 28, 28]), Labels Shape = torch.Size([64])\n",
      "\n",
      "Validation Loader Batch Shapes:\n",
      "Batch 1: Images Shape = torch.Size([64, 1, 28, 28]), Labels Shape = torch.Size([64])\n",
      "\n",
      "Test Loader Batch Shapes:\n",
      "Batch 1: Images Shape = torch.Size([64, 1, 28, 28]), Labels Shape = torch.Size([64])\n",
      "\n",
      "Train Samples Shape: torch.Size([50000, 784])\n",
      "Train Labels Shape: torch.Size([50000])\n",
      "\n",
      "Validation Samples Shape: torch.Size([10000, 784])\n",
      "Validation Labels Shape: torch.Size([10000])\n",
      "\n",
      "Test Samples Shape: torch.Size([10000, 784])\n",
      "Test Labels Shape: torch.Size([10000])\n",
      "\n",
      "Train Label Frequencies: Counter({1: 5678, 7: 5175, 3: 5101, 9: 4988, 2: 4968, 6: 4951, 0: 4932, 4: 4859, 8: 4842, 5: 4506})\n",
      "Validation Label Frequencies: Counter({7: 1090, 1: 1064, 3: 1030, 8: 1009, 0: 991, 2: 990, 4: 983, 6: 967, 9: 961, 5: 915})\n",
      "Test Label Frequencies: Counter({1: 1135, 2: 1032, 7: 1028, 3: 1010, 9: 1009, 4: 982, 0: 980, 8: 974, 6: 958, 5: 892})\n"
     ]
    }
   ],
   "source": [
    "# Load the model\n",
    "\n",
    "device = torch.device(\"cuda\" if torch.cuda.is_available() else \"cpu\")\n",
    "arch = (784, [256, 128, 128, 128, 64, 64, 64, 64, 64, 64, 32, 10])\n",
    "\n",
    "model = MNIST_classifier(n_in=arch[0], layer_list=arch[1], bias=0)\n",
    "# model = MNIST_classifier(n_in=784, layer_list=[128, 128, 128, 64, 64, 64, 32, 16, 8, 3], bias=0)\n",
    "# model = MNIST_classifier(n_in=784, layer_list=[128, 128, 128, 64, 64, 64, 64, 64, 64, 32, 10], bias=0)\n",
    "\n",
    "state_dict = torch.load('/home/mila/m/mehrab.hamidi/scratch/training_res/november_res/mnist/normal/bias_0.0001/mnist_training/try_num2/epoch_120/model.pt', weights_only=False)\n",
    "model.load_state_dict(state_dict)\n",
    "\n",
    "model.eval()\n",
    "\n",
    "\n",
    "# load the data\n",
    "_, _, _, train_samples, train_labels, val_samples, val_labels, test_samples, test_labels = get_mnist_data_loaders()\n",
    "\n",
    "\n",
    "\n",
    "dataset_target_samples = train_samples\n",
    "dataset_target_labels = train_labels"
   ]
  },
  {
   "cell_type": "code",
   "execution_count": 3,
   "metadata": {},
   "outputs": [],
   "source": [
    "def plot_data_projection(ax, counter, anim_pieces, type_analysis='pca', dim=2, title='layers: ', labels_all: list = []):\n",
    "\n",
    "    labels = labels_all[0]\n",
    "    \n",
    "    # Find unique labels and the number of unique classes\n",
    "    unique_labels = np.unique(labels)\n",
    "    num_classes = len(unique_labels)\n",
    "    \n",
    "    # Dynamically select an appropriate colormap\n",
    "    if num_classes <= 10:\n",
    "        cmap = plt.get_cmap('tab10')  # type: ignore # Use tab10 for 10 or fewer classes\n",
    "    elif num_classes <= 20:\n",
    "        cmap = plt.get_cmap('tab20')  # type: ignore # Use tab20 for 11-20 classes\n",
    "    else:\n",
    "        cmap = plt.cm.get_cmap('viridis', num_classes)  # type: ignore # Use continuous colormap for more than 20 classes\n",
    "    \n",
    "    # Map each unique label to a specific color in the colormap\n",
    "    color_map = {label: cmap(i / num_classes) for i, label in enumerate(unique_labels)}\n",
    "    \n",
    "    # Assign colors to each data point based on its label\n",
    "    colors = [color_map[label] for label in labels]\n",
    "    \n",
    "    # Select appropriate scatter plot based on dimension\n",
    "    if dim == 2:\n",
    "        ax.scatter(anim_pieces[counter][0], anim_pieces[counter][1], c=colors, s=10)\n",
    "    elif dim == 3:\n",
    "        ax.scatter(anim_pieces[counter][0], anim_pieces[counter][1], anim_pieces[counter][2], c=colors, s=10)\n",
    "    \n",
    "    # If labels are provided, add a legend\n",
    "    if labels is not None:\n",
    "        # Create a list of legend handles\n",
    "        handles = [plt.Line2D([0], [0], marker='o', color='w', markerfacecolor=color_map[label],  # type: ignore\n",
    "                              markersize=8, label=f'Class {label}') for label in unique_labels]\n",
    "        \n",
    "        # Add the legend to the axis\n",
    "        ax.legend(handles=handles, title=\"Classes\", loc=\"best\")\n",
    "    \n",
    "    ax.grid(True)\n",
    "\n",
    "    if type_analysis == 'pca':\n",
    "        ax.set_xlabel('First Principal Component')\n",
    "        ax.set_ylabel('Second Principal Component')\n",
    "        if dim == 2:\n",
    "            # ax.quiver([0, 0], eigenvectors[0][:, -1][0], eigenvectors[0][:, -1][1])\n",
    "            # ax.quiver([0, 0], eigenvectors[0][:, -2][0], eigenvectors[0][:, -2][1])\n",
    "            ax.set_title('Data in First Two Principal Components')\n",
    "        if dim == 3:\n",
    "            ax.set_zlabel('Third Principal Component')\n",
    "            ax.set_title('Data in First Three Principal Components')\n",
    "    elif type_analysis == 'random':\n",
    "        ax.set_xlabel('First Random Diemnsion')\n",
    "        ax.set_ylabel('Second Random Dimension')\n",
    "        ax.set_title('Data in Two Random Dimension')\n",
    "        if dim == 2:\n",
    "            ax.set_title('Data in Two Random Dimension')\n",
    "        if dim == 3:\n",
    "            ax.set_zlabel('Third Random Dimension')\n",
    "            ax.set_title('Data in Three Random Dimension')\n",
    "    if type(title) is list:\n",
    "        ax.set_title(title[counter])\n",
    "    else:\n",
    "        ax.set_title(f'{title} {counter + 1}')\n",
    "\n",
    "    return colors"
   ]
  },
  {
   "cell_type": "code",
   "execution_count": 4,
   "metadata": {},
   "outputs": [
    {
     "name": "stdout",
     "output_type": "stream",
     "text": [
      "---\n"
     ]
    }
   ],
   "source": [
    "anal_path = '../../spike_analysis/spike_resume2025_layers/'\n",
    "if not os.path.isdir(anal_path):\n",
    "    os.makedirs(anal_path)\n",
    "results_dict = fixed_model_batch_analysis(model, train_samples, train_labels, device, '{}_{}'.format(anal_path, 'train_'), 'analyze', plotting=False)\n",
    "plt.close()\n",
    "print(\"---\")"
   ]
  },
  {
   "cell_type": "code",
   "execution_count": 5,
   "metadata": {},
   "outputs": [],
   "source": [
    "def iterative_line_fitting(data, max_clusters=5, coverage_threshold=0.95, residual_threshold=3, max_steps=50):\n",
    "    remaining_data = data.copy()\n",
    "    all_clusters = []\n",
    "    all_indices = []\n",
    "    line_params = []\n",
    "    total_points = len(data)\n",
    "    total_covered = 0\n",
    "    step_count = 0\n",
    "\n",
    "    # Keep track of original indices\n",
    "    remaining_indices = np.arange(total_points)\n",
    "\n",
    "    while total_covered / total_points < coverage_threshold:\n",
    "        step_count += 1\n",
    "        if step_count > max_steps:\n",
    "            print(f\"Stopping after reaching max steps: {max_steps}\")\n",
    "            break\n",
    "\n",
    "        # Fit line using RANSAC\n",
    "        model = RANSACRegressor(residual_threshold=residual_threshold)\n",
    "        model.fit(remaining_data[:, 0].reshape(-1, 1), remaining_data[:, 1])\n",
    "        \n",
    "        # Get slope of the fitted line\n",
    "        slope = model.estimator_.coef_[0]\n",
    "        line_params.append(slope)\n",
    "        \n",
    "        # Predict to get the line fit\n",
    "        line_x = remaining_data[:, 0]\n",
    "        line_y = model.predict(line_x.reshape(-1, 1))\n",
    "\n",
    "        # Calculate residuals and determine inliers\n",
    "        residuals = np.abs(remaining_data[:, 1] - line_y)\n",
    "        inlier_mask = residuals < residual_threshold\n",
    "        inliers = remaining_data[inlier_mask]\n",
    "\n",
    "        # Store inliers and their original indices\n",
    "        inlier_indices = remaining_indices[inlier_mask]\n",
    "\n",
    "        all_clusters.append(inliers)\n",
    "        all_indices.append(inlier_indices)\n",
    "\n",
    "        # Update remaining data and indices\n",
    "        remaining_data = remaining_data[~inlier_mask]\n",
    "        remaining_indices = remaining_indices[~inlier_mask]\n",
    "\n",
    "        # Update total covered points\n",
    "        total_covered += len(inliers)\n",
    "\n",
    "    # Function to calculate angle between two slopes\n",
    "    def calculate_angle(slope1, slope2):\n",
    "        tan_theta = abs((slope2 - slope1) / (1 + slope1 * slope2))\n",
    "        return np.arctan(tan_theta) * 180 / np.pi\n",
    "\n",
    "    # Merge clusters if there are more than the specified max_clusters\n",
    "    if len(all_clusters) > max_clusters:\n",
    "        # Keep merging until the number of clusters is equal to max_clusters\n",
    "        while len(all_clusters) > max_clusters:\n",
    "            min_angle = float('inf')\n",
    "            merge_idx1, merge_idx2 = -1, -1\n",
    "\n",
    "            # Find the pair of clusters with the smallest angle between their lines\n",
    "            for (i, j) in itertools.combinations(range(len(line_params)), 2):\n",
    "                angle = calculate_angle(line_params[i], line_params[j])\n",
    "                if angle < min_angle:\n",
    "                    # Check if merging these two lines would lead to an angle greater than 90 degrees within the cluster\n",
    "                    new_slope_list = [line_params[k] for k in range(len(line_params)) if k not in (i, j)] + [(line_params[i] + line_params[j]) / 2]\n",
    "                    valid_merge = True\n",
    "                    for slope1, slope2 in itertools.combinations(new_slope_list, 2):\n",
    "                        if calculate_angle(slope1, slope2) > 90:\n",
    "                            valid_merge = False\n",
    "                            break\n",
    "\n",
    "                    # If valid merge, update the candidate for merging\n",
    "                    if valid_merge:\n",
    "                        min_angle = angle\n",
    "                        merge_idx1, merge_idx2 = i, j\n",
    "\n",
    "            # Merge the clusters with the smallest angle if they are valid\n",
    "            if merge_idx1 != -1 and merge_idx2 != -1:\n",
    "                # Merge the clusters and line parameters\n",
    "                all_clusters[merge_idx1] = np.vstack((all_clusters[merge_idx1], all_clusters[merge_idx2]))\n",
    "                all_indices[merge_idx1] = np.hstack((all_indices[merge_idx1], all_indices[merge_idx2]))\n",
    "                merged_slope = (line_params[merge_idx1] + line_params[merge_idx2]) / 2\n",
    "                line_params[merge_idx1] = merged_slope\n",
    "\n",
    "                # Remove the merged cluster\n",
    "                del all_clusters[merge_idx2]\n",
    "                del all_indices[merge_idx2]\n",
    "                del line_params[merge_idx2]\n",
    "\n",
    "    return all_clusters, all_indices\n"
   ]
  },
  {
   "cell_type": "code",
   "execution_count": 6,
   "metadata": {},
   "outputs": [
    {
     "name": "stdout",
     "output_type": "stream",
     "text": [
      "10\n"
     ]
    }
   ],
   "source": [
    "num_spikes_per_class = 3\n",
    "num_samples_per_spike = 3\n",
    "mnist_labels = train_labels.detach().cpu().numpy()\n",
    "mnist_data = train_samples.detach().cpu().numpy().reshape(train_samples.shape[0], 28 * 28)\n",
    "# Number of classes\n",
    "num_classes = len(np.unique(mnist_labels))\n",
    "print(num_classes)\n",
    "\n",
    "idx_layer = 7\n",
    "\n",
    "mnist_pca_2d = np.array(results_dict['pca_2'][idx_layer]).transpose()\n",
    "\n",
    "class_idx = 0\n",
    "\n",
    "\n",
    "# Extract the data points belonging to the current class\n",
    "class_data_indices = np.where(mnist_labels == class_idx)[0]\n",
    "class_data = mnist_pca_2d[class_data_indices]\n",
    "\n",
    "# Apply iterative line fitting clustering to the class data\n",
    "clusters, cluster_indices = iterative_line_fitting(class_data)"
   ]
  },
  {
   "cell_type": "code",
   "execution_count": 7,
   "metadata": {},
   "outputs": [
    {
     "data": {
      "image/png": "[encoded data removed]",
      "text/plain": [
       "<Figure size 1000x600 with 1 Axes>"
      ]
     },
     "metadata": {},
     "output_type": "display_data"
    }
   ],
   "source": [
    "# Plot the detected clusters (spikes) for class zero\n",
    "fig, ax = plt.subplots(figsize=(10, 6))\n",
    "ax.set_title('Detected Spikes for Class Zero (Layer 5)')\n",
    "colors = ['tab:blue', 'tab:orange', 'tab:green', 'tab:red', 'tab:purple']\n",
    "\n",
    "# Limit the number of spikes to visualize to `num_spikes_per_class`\n",
    "for i, cluster in enumerate(clusters[:num_spikes_per_class]):\n",
    "    ax.scatter(cluster[:, 0], cluster[:, 1], label=f'Spike {i + 1}', color=colors[i % len(colors)], alpha=0.7)\n",
    "\n",
    "ax.set_xlabel('First Principal Component')\n",
    "ax.set_ylabel('Second Principal Component')\n",
    "ax.legend(title='Detected Spikes')\n",
    "plt.show()"
   ]
  },
  {
   "cell_type": "code",
   "execution_count": 8,
   "metadata": {},
   "outputs": [
    {
     "data": {
      "text/plain": [
       "5"
      ]
     },
     "execution_count": 8,
     "metadata": {},
     "output_type": "execute_result"
    }
   ],
   "source": [
    "len(cluster_indices)"
   ]
  },
  {
   "cell_type": "code",
   "execution_count": 9,
   "metadata": {},
   "outputs": [],
   "source": [
    "def spike_tracking_plots(class_idx, idx_layer_original=7):\n",
    "\n",
    "    num_spikes_per_class = 3\n",
    "    num_samples_per_spike = 3\n",
    "    mnist_labels = train_labels.detach().cpu().numpy()\n",
    "    mnist_data = train_samples.detach().cpu().numpy().reshape(train_samples.shape[0], 28 * 28)\n",
    "    # Number of classes\n",
    "    num_classes = len(np.unique(mnist_labels))\n",
    "\n",
    "    idx_layer_original = 7\n",
    "\n",
    "    mnist_pca_2d = np.array(results_dict['pca_2'][idx_layer_original]).transpose()\n",
    "\n",
    "    # Assuming `clusters` and `cluster_indices` are already obtained from the previous task\n",
    "    anal_path = f'../../spike_analysis/spike_resume_2025/spike_resume_class{class_idx}/'\n",
    "    os.makedirs(anal_path, exist_ok=True)\n",
    "\n",
    "\n",
    "    # Extract the data points belonging to the current class\n",
    "    class_data_indices = np.where(mnist_labels == class_idx)[0]\n",
    "    class_data = mnist_pca_2d[class_data_indices]\n",
    "\n",
    "    # Apply iterative line fitting clustering to the class data\n",
    "    clusters, cluster_indices = iterative_line_fitting(class_data)\n",
    "\n",
    "\n",
    "    num_layers = len(results_dict['pca_2'])  # Assuming `results_dict['pca_2']` has data for each layer\n",
    "    layers_to_visualize = list(range(num_layers))  # Visualize all layers\n",
    "\n",
    "    # Plot the detected clusters (spikes) for class zero\n",
    "    fig, ax = plt.subplots(figsize=(20, 6))\n",
    "    ax.set_title('Detected Spikes for Class Zero (Layer 5)')\n",
    "    colors = ['tab:blue', 'tab:orange', 'tab:green', 'tab:red', 'tab:purple']\n",
    "\n",
    "    # Limit the number of spikes to visualize to `num_spikes_per_class`\n",
    "    for i, cluster in enumerate(clusters):\n",
    "        ax.scatter(cluster[:, 0], cluster[:, 1], label=f'Spike {i + 1}', color=colors[i % len(colors)], alpha=0.7)\n",
    "\n",
    "    ax.set_xlabel('First Principal Component')\n",
    "    ax.set_ylabel('Second Principal Component')\n",
    "    ax.legend(title='Detected Spikes')\n",
    "    fig.savefig(os.path.join(anal_path, f'spikes_following_for_class_{class_idx}.pdf'))\n",
    "    plt.close(fig)\n",
    "\n",
    "    # Extract the data points belonging to the current class\n",
    "    class_data_indices = np.where(mnist_labels == class_idx)[0]\n",
    "\n",
    "    # Iterate over each spike cluster\n",
    "    for spike_idx, spike_indices in tqdm(enumerate(cluster_indices)):\n",
    "        # Create a figure for each spike\n",
    "        fig, axes = plt.subplots(1, len(layers_to_visualize), figsize=(25, 5))\n",
    "        # fig.suptitle(f'Visualization of Spike {spike_idx + 1} Across Different Layers')\n",
    "\n",
    "        # Loop through each layer to visualize the data\n",
    "        for idx_layer, ax in zip(layers_to_visualize, axes):\n",
    "            mnist_pca_2d = np.array(results_dict['pca_2'][idx_layer]).transpose()\n",
    "\n",
    "            # Plot all data points in the current layer\n",
    "            ax.scatter(mnist_pca_2d[:, 0], mnist_pca_2d[:, 1], alpha=0.2, label='All Data', color='gray')\n",
    "\n",
    "            # Extract the data points corresponding to the current spike indices\n",
    "            selected_data = mnist_pca_2d[class_data_indices][spike_indices]\n",
    "\n",
    "            # Overlay the data points belonging to the current spike with a different marker\n",
    "            ax.scatter(selected_data[:, 0], selected_data[:, 1], color='red', marker='+', s=50, label=f'Spike {spike_idx + 1} Data Points')\n",
    "\n",
    "            ax.set_title(f'Layer {idx_layer}')\n",
    "            ax.set_xlabel('PC1')\n",
    "            ax.set_ylabel('PC2')\n",
    "\n",
    "        plt.legend()\n",
    "        plt.tight_layout()\n",
    "\n",
    "        # Save the figure\n",
    "        save_path = os.path.join(anal_path, f'spikes_following_for_class_{class_idx}_spike_{spike_idx + 1}.pdf')\n",
    "        plt.savefig(save_path)\n",
    "        plt.close(fig)\n",
    "\n",
    "    print(f'All spike visualizations saved in directory: {anal_path}')\n",
    "\n",
    "\n",
    "    num_spikes = len(cluster_indices)\n",
    "\n",
    "    # Create a figure for all spikes and layers\n",
    "    fig, axes = plt.subplots(num_spikes, len(layers_to_visualize), figsize=(25, 5 * num_spikes))\n",
    "    fig.suptitle(f'Spike Analysis for Class {class_idx} Across Different Layers\\n'\n",
    "                f'Spikes Originally Detected from Layer {idx_layer_original}', fontsize=16)\n",
    "\n",
    "    # Loop through each spike and layer to visualize the data\n",
    "    for spike_idx, spike_indices in enumerate(cluster_indices):\n",
    "        for idx_layer, ax in zip(layers_to_visualize, axes[spike_idx]):\n",
    "            mnist_pca_2d = np.array(results_dict['pca_2'][idx_layer]).transpose()\n",
    "\n",
    "            # Plot all data points in the current layer\n",
    "            ax.scatter(mnist_pca_2d[:, 0], mnist_pca_2d[:, 1], alpha=0.2, label='All Data', color='gray')\n",
    "\n",
    "            # Extract the data points corresponding to the current spike indices\n",
    "            selected_data = mnist_pca_2d[class_data_indices][spike_indices]\n",
    "\n",
    "            # Overlay the data points belonging to the current spike with a different marker\n",
    "            ax.scatter(selected_data[:, 0], selected_data[:, 1], color='red', marker='+', s=50, label=f'Spike {spike_idx + 1} Data Points')\n",
    "\n",
    "            ax.set_title(f'Layer {idx_layer}')\n",
    "            ax.set_xlabel('First Principal Component')\n",
    "            ax.set_ylabel('Second Principal Component')\n",
    "\n",
    "        # Add legend to the first subplot of each row\n",
    "        axes[spike_idx, 0].legend()\n",
    "\n",
    "    plt.tight_layout(rect=[0, 0.03, 1, 0.95])\n",
    "\n",
    "    # Save the figure\n",
    "    save_path = os.path.join(anal_path, f'spikes_following_for_class_{class_idx}_all_spikes.pdf')\n",
    "    plt.savefig(save_path)\n",
    "    plt.close(fig)\n",
    "\n",
    "    print(f'Spike visualizations for class {class_idx} saved in: {save_path}')\n",
    "\n",
    "\n"
   ]
  },
  {
   "cell_type": "code",
   "execution_count": 10,
   "metadata": {},
   "outputs": [
    {
     "name": "stderr",
     "output_type": "stream",
     "text": [
      "5it [01:38, 19.63s/it][00:00<?, ?it/s]\n"
     ]
    },
    {
     "name": "stdout",
     "output_type": "stream",
     "text": [
      "All spike visualizations saved in directory: ../../spike_analysis/spike_resume_2025/spike_resume_class0/\n"
     ]
    },
    {
     "name": "stderr",
     "output_type": "stream",
     "text": [
      " 10%|█         | 1/10 [03:19<29:58, 199.78s/it]"
     ]
    },
    {
     "name": "stdout",
     "output_type": "stream",
     "text": [
      "Spike visualizations for class 0 saved in: ../../spike_analysis/spike_resume_2025/spike_resume_class0/spikes_following_for_class_0_all_spikes.pdf\n"
     ]
    },
    {
     "name": "stderr",
     "output_type": "stream",
     "text": [
      "5it [01:37, 19.59s/it]\n"
     ]
    },
    {
     "name": "stdout",
     "output_type": "stream",
     "text": [
      "All spike visualizations saved in directory: ../../spike_analysis/spike_resume_2025/spike_resume_class1/\n"
     ]
    },
    {
     "name": "stderr",
     "output_type": "stream",
     "text": [
      " 20%|██        | 2/10 [06:44<27:00, 202.53s/it]"
     ]
    },
    {
     "name": "stdout",
     "output_type": "stream",
     "text": [
      "Spike visualizations for class 1 saved in: ../../spike_analysis/spike_resume_2025/spike_resume_class1/spikes_following_for_class_1_all_spikes.pdf\n"
     ]
    },
    {
     "name": "stderr",
     "output_type": "stream",
     "text": [
      "3it [01:01, 20.58s/it]\n"
     ]
    },
    {
     "name": "stdout",
     "output_type": "stream",
     "text": [
      "All spike visualizations saved in directory: ../../spike_analysis/spike_resume_2025/spike_resume_class2/\n"
     ]
    },
    {
     "name": "stderr",
     "output_type": "stream",
     "text": [
      " 30%|███       | 3/10 [08:46<19:20, 165.76s/it]"
     ]
    },
    {
     "name": "stdout",
     "output_type": "stream",
     "text": [
      "Spike visualizations for class 2 saved in: ../../spike_analysis/spike_resume_2025/spike_resume_class2/spikes_following_for_class_2_all_spikes.pdf\n"
     ]
    },
    {
     "name": "stderr",
     "output_type": "stream",
     "text": [
      "5it [01:43, 20.67s/it]\n"
     ]
    },
    {
     "name": "stdout",
     "output_type": "stream",
     "text": [
      "All spike visualizations saved in directory: ../../spike_analysis/spike_resume_2025/spike_resume_class3/\n"
     ]
    },
    {
     "name": "stderr",
     "output_type": "stream",
     "text": [
      " 40%|████      | 4/10 [12:10<18:05, 180.86s/it]"
     ]
    },
    {
     "name": "stdout",
     "output_type": "stream",
     "text": [
      "Spike visualizations for class 3 saved in: ../../spike_analysis/spike_resume_2025/spike_resume_class3/spikes_following_for_class_3_all_spikes.pdf\n"
     ]
    },
    {
     "name": "stderr",
     "output_type": "stream",
     "text": [
      "5it [01:39, 19.82s/it]\n"
     ]
    },
    {
     "name": "stdout",
     "output_type": "stream",
     "text": [
      "All spike visualizations saved in directory: ../../spike_analysis/spike_resume_2025/spike_resume_class4/\n"
     ]
    },
    {
     "name": "stderr",
     "output_type": "stream",
     "text": [
      " 50%|█████     | 5/10 [15:30<15:39, 187.93s/it]"
     ]
    },
    {
     "name": "stdout",
     "output_type": "stream",
     "text": [
      "Spike visualizations for class 4 saved in: ../../spike_analysis/spike_resume_2025/spike_resume_class4/spikes_following_for_class_4_all_spikes.pdf\n"
     ]
    },
    {
     "name": "stderr",
     "output_type": "stream",
     "text": [
      "2it [00:39, 19.85s/it]\n"
     ]
    },
    {
     "name": "stdout",
     "output_type": "stream",
     "text": [
      "All spike visualizations saved in directory: ../../spike_analysis/spike_resume_2025/spike_resume_class5/\n"
     ]
    },
    {
     "name": "stderr",
     "output_type": "stream",
     "text": [
      " 60%|██████    | 6/10 [16:52<10:07, 151.84s/it]"
     ]
    },
    {
     "name": "stdout",
     "output_type": "stream",
     "text": [
      "Spike visualizations for class 5 saved in: ../../spike_analysis/spike_resume_2025/spike_resume_class5/spikes_following_for_class_5_all_spikes.pdf\n"
     ]
    },
    {
     "name": "stderr",
     "output_type": "stream",
     "text": [
      "5it [01:36, 19.36s/it]\n"
     ]
    },
    {
     "name": "stdout",
     "output_type": "stream",
     "text": [
      "All spike visualizations saved in directory: ../../spike_analysis/spike_resume_2025/spike_resume_class6/\n"
     ]
    },
    {
     "name": "stderr",
     "output_type": "stream",
     "text": [
      " 70%|███████   | 7/10 [20:16<08:26, 168.88s/it]"
     ]
    },
    {
     "name": "stdout",
     "output_type": "stream",
     "text": [
      "Spike visualizations for class 6 saved in: ../../spike_analysis/spike_resume_2025/spike_resume_class6/spikes_following_for_class_6_all_spikes.pdf\n"
     ]
    },
    {
     "name": "stderr",
     "output_type": "stream",
     "text": [
      "5it [01:38, 19.76s/it]\n"
     ]
    },
    {
     "name": "stdout",
     "output_type": "stream",
     "text": [
      "All spike visualizations saved in directory: ../../spike_analysis/spike_resume_2025/spike_resume_class7/\n"
     ]
    },
    {
     "name": "stderr",
     "output_type": "stream",
     "text": [
      " 80%|████████  | 8/10 [23:36<05:57, 178.76s/it]"
     ]
    },
    {
     "name": "stdout",
     "output_type": "stream",
     "text": [
      "Spike visualizations for class 7 saved in: ../../spike_analysis/spike_resume_2025/spike_resume_class7/spikes_following_for_class_7_all_spikes.pdf\n"
     ]
    },
    {
     "name": "stderr",
     "output_type": "stream",
     "text": [
      "5it [01:37, 19.47s/it]\n"
     ]
    },
    {
     "name": "stdout",
     "output_type": "stream",
     "text": [
      "All spike visualizations saved in directory: ../../spike_analysis/spike_resume_2025/spike_resume_class8/\n"
     ]
    },
    {
     "name": "stderr",
     "output_type": "stream",
     "text": [
      " 90%|█████████ | 9/10 [27:00<03:06, 186.75s/it]"
     ]
    },
    {
     "name": "stdout",
     "output_type": "stream",
     "text": [
      "Spike visualizations for class 8 saved in: ../../spike_analysis/spike_resume_2025/spike_resume_class8/spikes_following_for_class_8_all_spikes.pdf\n"
     ]
    },
    {
     "name": "stderr",
     "output_type": "stream",
     "text": [
      "5it [01:43, 20.64s/it]\n"
     ]
    },
    {
     "name": "stdout",
     "output_type": "stream",
     "text": [
      "All spike visualizations saved in directory: ../../spike_analysis/spike_resume_2025/spike_resume_class9/\n"
     ]
    },
    {
     "name": "stderr",
     "output_type": "stream",
     "text": [
      "100%|██████████| 10/10 [30:22<00:00, 182.27s/it]"
     ]
    },
    {
     "name": "stdout",
     "output_type": "stream",
     "text": [
      "Spike visualizations for class 9 saved in: ../../spike_analysis/spike_resume_2025/spike_resume_class9/spikes_following_for_class_9_all_spikes.pdf\n"
     ]
    },
    {
     "name": "stderr",
     "output_type": "stream",
     "text": [
      "\n"
     ]
    }
   ],
   "source": [
    "for index_class in tqdm(range(10)):\n",
    "    spike_tracking_plots(index_class)"
   ]
  },
  {
   "cell_type": "code",
   "execution_count": null,
   "metadata": {},
   "outputs": [],
   "source": []
  }
 ],
 "metadata": {
  "kernelspec": {
   "display_name": "Python 3",
   "language": "python",
   "name": "python3"
  },
  "language_info": {
   "codemirror_mode": {
    "name": "ipython",
    "version": 3
   },
   "file_extension": ".py",
   "mimetype": "text/x-python",
   "name": "python",
   "nbconvert_exporter": "python",
   "pygments_lexer": "ipython3",
   "version": "3.8.13"
  }
 },
 "nbformat": 4,
 "nbformat_minor": 2
}
